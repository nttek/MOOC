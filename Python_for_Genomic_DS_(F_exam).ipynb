{
 "cells": [
  {
   "cell_type": "code",
   "execution_count": 1,
   "metadata": {
    "colab": {
     "base_uri": "https://localhost:8080/",
     "height": 139
    },
    "colab_type": "code",
    "id": "sL7FmF9mU0u-",
    "outputId": "58167400-6b73-4746-9e0d-5183d43679f0"
   },
   "outputs": [
    {
     "name": "stdout",
     "output_type": "stream",
     "text": [
      "Requirement already satisfied: biopython in c:\\users\\100043389\\.conda\\envs\\pythonenv\\lib\\site-packages (1.77)\n",
      "Requirement already satisfied: numpy in c:\\users\\100043389\\.conda\\envs\\pythonenv\\lib\\site-packages (from biopython) (1.18.1)\n"
     ]
    }
   ],
   "source": [
    "!pip install biopython"
   ]
  },
  {
   "cell_type": "markdown",
   "metadata": {
    "colab_type": "text",
    "id": "QPzkRfSNuf7A"
   },
   "source": [
    "Import essential libraries"
   ]
  },
  {
   "cell_type": "code",
   "execution_count": 2,
   "metadata": {
    "colab": {},
    "colab_type": "code",
    "id": "qA7UnUvZUvLm"
   },
   "outputs": [],
   "source": [
    "from Bio import SeqIO\n",
    "from pprint import pprint"
   ]
  },
  {
   "cell_type": "markdown",
   "metadata": {},
   "source": [
    "(1) Using SeqIO method to count number of records and save the results"
   ]
  },
  {
   "cell_type": "code",
   "execution_count": 3,
   "metadata": {
    "scrolled": true
   },
   "outputs": [
    {
     "name": "stdout",
     "output_type": "stream",
     "text": [
      "Number of records: 18\n"
     ]
    }
   ],
   "source": [
    "counter=0                                                      #counter to keep track of record counts\n",
    "for seq_record in SeqIO.parse(\"dna2.fasta\", \"fasta\"):   #going through each record, uisng SeqIO module \n",
    "        counter=counter+1                                      #increment counter\n",
    "print(\"Number of records: \" + str(counter))                    #print number of records info"
   ]
  },
  {
   "cell_type": "markdown",
   "metadata": {},
   "source": [
    "(2) Longest and shortest sequences"
   ]
  },
  {
   "cell_type": "code",
   "execution_count": 12,
   "metadata": {},
   "outputs": [],
   "source": [
    "def seqLenInfo(fasta_file):    \n",
    "    seqLen = {}\n",
    "    for seq_record in SeqIO.parse(fasta_file, \"fasta\"):           #going through each record\n",
    "            seqLen[seq_record.id] = len(seq_record.seq[:])        #save id and length info in a dict\n",
    "                                                             \n",
    "    print(\"Partial sequence records of form  <id: length>\")\n",
    "    pprint({k: seqLen[k] for k in list(seqLen)[:5]})              #print top 5 records form the dict  \n",
    "    print(\"------------------------------------------------\")\n",
    "\n",
    "    max_value = max(seqLen.values())                              #find the longest sequence from the dict\n",
    "    max_keys = [k for k, v in seqLen.items() if v == max_value]   #get id for the longest sequence\n",
    "\n",
    "    print(\"Longest sequence length: \" + str(seqLen[max_keys[0]])) #print longest sequence length\n",
    "\n",
    "    if len(max_keys)>1:                                           #check if duplicae longest sequence exist\n",
    "        print(\"There are more than one longest sequences.\")\n",
    "    else:\n",
    "        print(\"There are no duplicate longest sequences.\")\n",
    "    print(\"------------------------------------------------\")\n",
    "\n",
    "    min_value = min(seqLen.values())                              #find the sequence sequence from the dict\n",
    "    min_keys = [k for k, v in seqLen.items() if v == min_value]   #get id for the sequence sequence\n",
    "    \n",
    "    print(\"Shortest sequence length: \" + str(seqLen[min_keys[0]])) #print shortest sequence length\n",
    "\n",
    "    if len(min_keys)>1:                                           #check if duplicae shortest sequence exist\n",
    "        print(\"There are more than one shortest sequences.\")\n",
    "    else:\n",
    "        print(\"There are no duplicate shortest sequences.\")\n",
    "    print(\"------------------------------------------------\")"
   ]
  },
  {
   "cell_type": "code",
   "execution_count": 13,
   "metadata": {},
   "outputs": [
    {
     "name": "stdout",
     "output_type": "stream",
     "text": [
      "Partial sequence records of form  <id: length>\n",
      "{'gi|142022655|gb|EQ086233.1|255': 4894,\n",
      " 'gi|142022655|gb|EQ086233.1|304': 1151,\n",
      " 'gi|142022655|gb|EQ086233.1|396': 4076,\n",
      " 'gi|142022655|gb|EQ086233.1|45': 3511,\n",
      " 'gi|142022655|gb|EQ086233.1|91': 4635}\n",
      "------------------------------------------------\n",
      "Longest sequence length: 4894\n",
      "There are no duplicate longest sequences.\n",
      "------------------------------------------------\n",
      "Shortest sequence length: 115\n",
      "There are no duplicate shortest sequences.\n",
      "------------------------------------------------\n"
     ]
    }
   ],
   "source": [
    "seqLenInfo(\"dna2.fasta\") #print file info of shortest and longest sequences"
   ]
  },
  {
   "cell_type": "markdown",
   "metadata": {
    "colab_type": "text",
    "id": "ooObAxI2g8Mw"
   },
   "source": [
    "(3) Find ORFs"
   ]
  },
  {
   "cell_type": "code",
   "execution_count": 4,
   "metadata": {
    "colab": {},
    "colab_type": "code",
    "id": "-Ryv7AnWg-OP"
   },
   "outputs": [],
   "source": [
    "# Find ORF in Sequence\n",
    "def find_orf(seq_record):      \n",
    "    start_indices = []\n",
    "    stop_indices = []\n",
    "    for i in range(1, len(seq_record)):         #find the start codon (ATG) indices\n",
    "        if seq_record[i:i+3] == \"ATG\":          #in the whole given sequence\n",
    "            start_indices.append(i)\n",
    "    \n",
    "    for i in range(1, len(seq_record)):         #find all the stop codon indices\n",
    "        stops = [\"TAA\", \"TAG\", \"TGA\"]           #in the whole given sequence\n",
    "        if seq_record[i:i+3] in stops:\n",
    "            stop_indices.append(i)\n",
    "\n",
    "    orfs = []\n",
    "    mark = 0\n",
    "    for i in range(0,len(start_indices)):       #compare the relative positions of\n",
    "        for j in range(0, len(stop_indices)):   #the start and stop codons\n",
    "            if start_indices[i] < stop_indices[j] and start_indices[i] > mark:\n",
    "                orfs.append(seq_record[start_indices[i]:stop_indices[j]+3])\n",
    "                mark = stop_indices[j]+3\n",
    "                break\n",
    "    return orfs"
   ]
  },
  {
   "cell_type": "markdown",
   "metadata": {},
   "source": [
    "*3.1 What is the length of the longest ORF in the file?*\n",
    "\n",
    "*3.2 What is the identifier of the sequence containing the longest ORF?*"
   ]
  },
  {
   "cell_type": "code",
   "execution_count": 5,
   "metadata": {},
   "outputs": [
    {
     "name": "stdout",
     "output_type": "stream",
     "text": [
      "388\n",
      "['gi|142022655|gb|EQ086233.1|255']\n"
     ]
    }
   ],
   "source": [
    "longestOrfs = {}                                              #create a dict and store the longest\n",
    "                                                              #ORFs for the all the sequences in a file\n",
    "                                                              #with their parent id's\n",
    "for seq_record in SeqIO.parse(\"dna2.fasta\", \"fasta\"):  \n",
    "        longestOrfs[seq_record.id] = max(find_orf (seq_record.seq[:]),key=len)\n",
    "\n",
    "longest_value = max(longestOrfs.values(),key=len)             #get the longest ORF's length among the others\n",
    "longest_id = [k for k, v in longestOrfs.items() if v == longest_value] #get its id\n",
    "\n",
    "print(len(longest_value))                                     #print the longest ORF's length\n",
    "print(longest_id)                                             #print its respective id"
   ]
  },
  {
   "cell_type": "markdown",
   "metadata": {},
   "source": [
    "*3.3 For a given sequence identifier, what is the longest ORF contained in the sequence represented by that identifier?* "
   ]
  },
  {
   "cell_type": "code",
   "execution_count": 17,
   "metadata": {},
   "outputs": [
    {
     "name": "stdout",
     "output_type": "stream",
     "text": [
      "Enter a sequence id (e.g. gi|142022655|gb|EQ086233.1|323): \n",
      "gi|142022655|gb|EQ086233.1|16\n",
      "\n",
      "The longest ORF for the given id is\n",
      "\n",
      "ATGGCGCGACGCGGCGGAGTTCATGGTGCTCGGCGCCGGCAGCGTGCAGGTGTGCACCGCCGCGATGCATTACGGATTCCGGATCGTGTCGGACCTGGCCGACGGATTGTCGAACTGGATGGACGAGAAGGGCTACGCGACGCTCGACGACATTCGCGGCCGCGCGGTGCCGAACGTGA\n",
      "\n",
      "and has a length of 179\n"
     ]
    }
   ],
   "source": [
    "given_id = input(\"Enter a sequence id (e.g. gi|142022655|gb|EQ086233.1|323): \\n\")   #prompt the user to enter an id  \n",
    "id_found = False                                         #flag to check if id is not found\n",
    "\n",
    "for id in longestOrfs:                                   #scan in the dictionary of the longestOrfs\n",
    "    if id == given_id:                                   #when id matches with the users input \n",
    "        print (\"\\nThe longest ORF for the given id is\\n\") \n",
    "        print (longestOrfs[given_id])                    #print the longest ORF when input id matches\n",
    "        print(\"\\nand has a length of \" + str(len(longestOrfs[given_id])))\n",
    "        id_found = True\n",
    "        \n",
    "if not id_found:\n",
    "    print(\"id not found!\")                               #notify the user if id is not found"
   ]
  },
  {
   "cell_type": "markdown",
   "metadata": {},
   "source": [
    "*3.4 What is the starting position of the longest ORF in the sequence that contains it?* "
   ]
  },
  {
   "cell_type": "code",
   "execution_count": 16,
   "metadata": {},
   "outputs": [
    {
     "name": "stdout",
     "output_type": "stream",
     "text": [
      "2780\n"
     ]
    }
   ],
   "source": [
    "for seq_record in SeqIO.parse(\"dna2.fasta\", \"fasta\"):  #to check the start position of longest ORF \n",
    "                                                              #in the sequence that contains it, find the sequence\n",
    "           if seq_record.id == longest_id[0]:                 #by matching its id with ids' for the whole file sequences\n",
    "            ind = seq_record.seq[:].find(longest_value)       #identify where the ORF is in the sequence\n",
    "            position = ind + 1                                #get the starting position\n",
    "            print(position)                                   #print the starting position\n",
    "            break                                             #terminate the searchin assuming no duplicates \n"
   ]
  },
  {
   "cell_type": "markdown",
   "metadata": {},
   "source": [
    "(4) Determining repeats"
   ]
  },
  {
   "cell_type": "code",
   "execution_count": 1,
   "metadata": {},
   "outputs": [],
   "source": [
    "from collections import Counter                          #import essential libraries\n",
    "from itertools import product   \n",
    "from Bio import SeqIO\n",
    "from pprint import pprint"
   ]
  },
  {
   "cell_type": "code",
   "execution_count": 2,
   "metadata": {},
   "outputs": [],
   "source": [
    "def find_repeats(n, fasta_file):                         #function that takes a file and finds repeats\n",
    "    repeatsDict = {}\n",
    "    for seq_record in SeqIO.parse(fasta_file, \"fasta\"):  #scan the given file, find repeats stats for each record\n",
    "        newRepeatsDict = dict((\"\".join(codon), seq_record.seq[:].upper().count(''.join(codon))) for codon in product(\"ATCG\", repeat=n))    \n",
    "        repeatsDict = dict(Counter(repeatsDict) + Counter(newRepeatsDict)) #combine new repeats stats with the existing ones \n",
    "\n",
    "    repeatsDict = {k:v for k, v in repeatsDict.items() if v != 0} #remove the redundant repeats (does't exist, 0 occuren.)\n",
    "    return repeatsDict                                   #return the repeats dictionary"
   ]
  },
  {
   "cell_type": "code",
   "execution_count": 3,
   "metadata": {},
   "outputs": [
    {
     "ename": "KeyboardInterrupt",
     "evalue": "",
     "output_type": "error",
     "traceback": [
      "\u001b[1;31m---------------------------------------------------------------------------\u001b[0m",
      "\u001b[1;31mKeyboardInterrupt\u001b[0m                         Traceback (most recent call last)",
      "\u001b[1;32m<ipython-input-3-0e7a40c542ab>\u001b[0m in \u001b[0;36m<module>\u001b[1;34m\u001b[0m\n\u001b[0;32m      8\u001b[0m     \u001b[0mprint\u001b[0m\u001b[1;33m(\u001b[0m\u001b[1;34m\"\\nIncorrect input, try again\"\u001b[0m\u001b[1;33m)\u001b[0m\u001b[1;33m\u001b[0m\u001b[1;33m\u001b[0m\u001b[0m\n\u001b[0;32m      9\u001b[0m '''\n\u001b[1;32m---> 10\u001b[1;33m \u001b[0mrepeats\u001b[0m \u001b[1;33m=\u001b[0m \u001b[0mfind_repeats\u001b[0m \u001b[1;33m(\u001b[0m\u001b[1;36m12\u001b[0m\u001b[1;33m,\u001b[0m \u001b[1;34m\"dna2.fasta\"\u001b[0m\u001b[1;33m)\u001b[0m                 \u001b[1;31m#call the find_repeats function at the given input\u001b[0m\u001b[1;33m\u001b[0m\u001b[1;33m\u001b[0m\u001b[0m\n\u001b[0m\u001b[0;32m     11\u001b[0m \u001b[0mmost_repeats\u001b[0m \u001b[1;33m=\u001b[0m  \u001b[0mmax\u001b[0m\u001b[1;33m(\u001b[0m\u001b[0mrepeats\u001b[0m\u001b[1;33m.\u001b[0m\u001b[0mvalues\u001b[0m\u001b[1;33m(\u001b[0m\u001b[1;33m)\u001b[0m\u001b[1;33m)\u001b[0m                    \u001b[1;31m#determine the longest of the repeats determined\u001b[0m\u001b[1;33m\u001b[0m\u001b[1;33m\u001b[0m\u001b[0m\n\u001b[0;32m     12\u001b[0m \u001b[1;33m\u001b[0m\u001b[0m\n",
      "\u001b[1;32m<ipython-input-2-00601ed1c058>\u001b[0m in \u001b[0;36mfind_repeats\u001b[1;34m(n, fasta_file)\u001b[0m\n\u001b[0;32m      2\u001b[0m     \u001b[0mrepeatsDict\u001b[0m \u001b[1;33m=\u001b[0m \u001b[1;33m{\u001b[0m\u001b[1;33m}\u001b[0m\u001b[1;33m\u001b[0m\u001b[1;33m\u001b[0m\u001b[0m\n\u001b[0;32m      3\u001b[0m     \u001b[1;32mfor\u001b[0m \u001b[0mseq_record\u001b[0m \u001b[1;32min\u001b[0m \u001b[0mSeqIO\u001b[0m\u001b[1;33m.\u001b[0m\u001b[0mparse\u001b[0m\u001b[1;33m(\u001b[0m\u001b[0mfasta_file\u001b[0m\u001b[1;33m,\u001b[0m \u001b[1;34m\"fasta\"\u001b[0m\u001b[1;33m)\u001b[0m\u001b[1;33m:\u001b[0m  \u001b[1;31m#scan the given file, find repeats stats for each record\u001b[0m\u001b[1;33m\u001b[0m\u001b[1;33m\u001b[0m\u001b[0m\n\u001b[1;32m----> 4\u001b[1;33m         \u001b[0mnewRepeatsDict\u001b[0m \u001b[1;33m=\u001b[0m \u001b[0mdict\u001b[0m\u001b[1;33m(\u001b[0m\u001b[1;33m(\u001b[0m\u001b[1;34m\"\"\u001b[0m\u001b[1;33m.\u001b[0m\u001b[0mjoin\u001b[0m\u001b[1;33m(\u001b[0m\u001b[0mcodon\u001b[0m\u001b[1;33m)\u001b[0m\u001b[1;33m,\u001b[0m \u001b[0mseq_record\u001b[0m\u001b[1;33m.\u001b[0m\u001b[0mseq\u001b[0m\u001b[1;33m[\u001b[0m\u001b[1;33m:\u001b[0m\u001b[1;33m]\u001b[0m\u001b[1;33m.\u001b[0m\u001b[0mupper\u001b[0m\u001b[1;33m(\u001b[0m\u001b[1;33m)\u001b[0m\u001b[1;33m.\u001b[0m\u001b[0mcount\u001b[0m\u001b[1;33m(\u001b[0m\u001b[1;34m''\u001b[0m\u001b[1;33m.\u001b[0m\u001b[0mjoin\u001b[0m\u001b[1;33m(\u001b[0m\u001b[0mcodon\u001b[0m\u001b[1;33m)\u001b[0m\u001b[1;33m)\u001b[0m\u001b[1;33m)\u001b[0m \u001b[1;32mfor\u001b[0m \u001b[0mcodon\u001b[0m \u001b[1;32min\u001b[0m \u001b[0mproduct\u001b[0m\u001b[1;33m(\u001b[0m\u001b[1;34m\"ATCG\"\u001b[0m\u001b[1;33m,\u001b[0m \u001b[0mrepeat\u001b[0m\u001b[1;33m=\u001b[0m\u001b[0mn\u001b[0m\u001b[1;33m)\u001b[0m\u001b[1;33m)\u001b[0m\u001b[1;33m\u001b[0m\u001b[1;33m\u001b[0m\u001b[0m\n\u001b[0m\u001b[0;32m      5\u001b[0m         \u001b[0mrepeatsDict\u001b[0m \u001b[1;33m=\u001b[0m \u001b[0mdict\u001b[0m\u001b[1;33m(\u001b[0m\u001b[0mCounter\u001b[0m\u001b[1;33m(\u001b[0m\u001b[0mrepeatsDict\u001b[0m\u001b[1;33m)\u001b[0m \u001b[1;33m+\u001b[0m \u001b[0mCounter\u001b[0m\u001b[1;33m(\u001b[0m\u001b[0mnewRepeatsDict\u001b[0m\u001b[1;33m)\u001b[0m\u001b[1;33m)\u001b[0m \u001b[1;31m#combine new repeats stats with the existing ones\u001b[0m\u001b[1;33m\u001b[0m\u001b[1;33m\u001b[0m\u001b[0m\n\u001b[0;32m      6\u001b[0m \u001b[1;33m\u001b[0m\u001b[0m\n",
      "\u001b[1;32m<ipython-input-2-00601ed1c058>\u001b[0m in \u001b[0;36m<genexpr>\u001b[1;34m(.0)\u001b[0m\n\u001b[0;32m      2\u001b[0m     \u001b[0mrepeatsDict\u001b[0m \u001b[1;33m=\u001b[0m \u001b[1;33m{\u001b[0m\u001b[1;33m}\u001b[0m\u001b[1;33m\u001b[0m\u001b[1;33m\u001b[0m\u001b[0m\n\u001b[0;32m      3\u001b[0m     \u001b[1;32mfor\u001b[0m \u001b[0mseq_record\u001b[0m \u001b[1;32min\u001b[0m \u001b[0mSeqIO\u001b[0m\u001b[1;33m.\u001b[0m\u001b[0mparse\u001b[0m\u001b[1;33m(\u001b[0m\u001b[0mfasta_file\u001b[0m\u001b[1;33m,\u001b[0m \u001b[1;34m\"fasta\"\u001b[0m\u001b[1;33m)\u001b[0m\u001b[1;33m:\u001b[0m  \u001b[1;31m#scan the given file, find repeats stats for each record\u001b[0m\u001b[1;33m\u001b[0m\u001b[1;33m\u001b[0m\u001b[0m\n\u001b[1;32m----> 4\u001b[1;33m         \u001b[0mnewRepeatsDict\u001b[0m \u001b[1;33m=\u001b[0m \u001b[0mdict\u001b[0m\u001b[1;33m(\u001b[0m\u001b[1;33m(\u001b[0m\u001b[1;34m\"\"\u001b[0m\u001b[1;33m.\u001b[0m\u001b[0mjoin\u001b[0m\u001b[1;33m(\u001b[0m\u001b[0mcodon\u001b[0m\u001b[1;33m)\u001b[0m\u001b[1;33m,\u001b[0m \u001b[0mseq_record\u001b[0m\u001b[1;33m.\u001b[0m\u001b[0mseq\u001b[0m\u001b[1;33m[\u001b[0m\u001b[1;33m:\u001b[0m\u001b[1;33m]\u001b[0m\u001b[1;33m.\u001b[0m\u001b[0mupper\u001b[0m\u001b[1;33m(\u001b[0m\u001b[1;33m)\u001b[0m\u001b[1;33m.\u001b[0m\u001b[0mcount\u001b[0m\u001b[1;33m(\u001b[0m\u001b[1;34m''\u001b[0m\u001b[1;33m.\u001b[0m\u001b[0mjoin\u001b[0m\u001b[1;33m(\u001b[0m\u001b[0mcodon\u001b[0m\u001b[1;33m)\u001b[0m\u001b[1;33m)\u001b[0m\u001b[1;33m)\u001b[0m \u001b[1;32mfor\u001b[0m \u001b[0mcodon\u001b[0m \u001b[1;32min\u001b[0m \u001b[0mproduct\u001b[0m\u001b[1;33m(\u001b[0m\u001b[1;34m\"ATCG\"\u001b[0m\u001b[1;33m,\u001b[0m \u001b[0mrepeat\u001b[0m\u001b[1;33m=\u001b[0m\u001b[0mn\u001b[0m\u001b[1;33m)\u001b[0m\u001b[1;33m)\u001b[0m\u001b[1;33m\u001b[0m\u001b[1;33m\u001b[0m\u001b[0m\n\u001b[0m\u001b[0;32m      5\u001b[0m         \u001b[0mrepeatsDict\u001b[0m \u001b[1;33m=\u001b[0m \u001b[0mdict\u001b[0m\u001b[1;33m(\u001b[0m\u001b[0mCounter\u001b[0m\u001b[1;33m(\u001b[0m\u001b[0mrepeatsDict\u001b[0m\u001b[1;33m)\u001b[0m \u001b[1;33m+\u001b[0m \u001b[0mCounter\u001b[0m\u001b[1;33m(\u001b[0m\u001b[0mnewRepeatsDict\u001b[0m\u001b[1;33m)\u001b[0m\u001b[1;33m)\u001b[0m \u001b[1;31m#combine new repeats stats with the existing ones\u001b[0m\u001b[1;33m\u001b[0m\u001b[1;33m\u001b[0m\u001b[0m\n\u001b[0;32m      6\u001b[0m \u001b[1;33m\u001b[0m\u001b[0m\n",
      "\u001b[1;32m~\\.conda\\envs\\PythonEnv\\lib\\site-packages\\Bio\\Seq.py\u001b[0m in \u001b[0;36mcount\u001b[1;34m(self, sub, start, end)\u001b[0m\n\u001b[0;32m    505\u001b[0m         \"\"\"\n\u001b[0;32m    506\u001b[0m         \u001b[1;31m# If it has one, check the alphabet:\u001b[0m\u001b[1;33m\u001b[0m\u001b[1;33m\u001b[0m\u001b[1;33m\u001b[0m\u001b[0m\n\u001b[1;32m--> 507\u001b[1;33m         \u001b[0msub_str\u001b[0m \u001b[1;33m=\u001b[0m \u001b[0mself\u001b[0m\u001b[1;33m.\u001b[0m\u001b[0m_get_seq_str_and_check_alphabet\u001b[0m\u001b[1;33m(\u001b[0m\u001b[0msub\u001b[0m\u001b[1;33m)\u001b[0m\u001b[1;33m\u001b[0m\u001b[1;33m\u001b[0m\u001b[0m\n\u001b[0m\u001b[0;32m    508\u001b[0m         \u001b[1;32mreturn\u001b[0m \u001b[0mstr\u001b[0m\u001b[1;33m(\u001b[0m\u001b[0mself\u001b[0m\u001b[1;33m)\u001b[0m\u001b[1;33m.\u001b[0m\u001b[0mcount\u001b[0m\u001b[1;33m(\u001b[0m\u001b[0msub_str\u001b[0m\u001b[1;33m,\u001b[0m \u001b[0mstart\u001b[0m\u001b[1;33m,\u001b[0m \u001b[0mend\u001b[0m\u001b[1;33m)\u001b[0m\u001b[1;33m\u001b[0m\u001b[1;33m\u001b[0m\u001b[0m\n\u001b[0;32m    509\u001b[0m \u001b[1;33m\u001b[0m\u001b[0m\n",
      "\u001b[1;31mKeyboardInterrupt\u001b[0m: "
     ]
    }
   ],
   "source": [
    "'''\n",
    "while True:                 \n",
    "    try:\n",
    "        n=int(input(\"Enter length of repeats: \"))        #prompt the user enter a valid input\n",
    "        break\n",
    "    except:                                              #handle exception of type mismatch\n",
    "        pass\n",
    "    print(\"\\nIncorrect input, try again\")  \n",
    "'''\n",
    "repeats = find_repeats (12, \"dna2.fasta\")                 #call the find_repeats function at the given input\n",
    "most_repeats =  max(repeats.values())                    #determine the longest of the repeats determined\n",
    "\n",
    "print(\"\\nPartial repeat records of form  <codon: no. of repeats>\") #print a summary of the repeats\n",
    "pprint({k: repeats[k] for k in list(repeats)[:5]})       #with a mxmimum of 5 repeats in the record\n",
    "print(\"------------------------------------------------\")\n",
    "print(\"Most number of repeats for the given repeat length is:\" + str(most_repeats))\n",
    "sorted(repeats.items(), key=lambda x: x[1], reverse=True)"
   ]
  },
  {
   "cell_type": "markdown",
   "metadata": {
    "colab_type": "text",
    "id": "4f5Y-Qz3wohK"
   },
   "source": [
    "# --------------------------------------End of document--------------------------------"
   ]
  },
  {
   "cell_type": "markdown",
   "metadata": {},
   "source": [
    " "
   ]
  },
  {
   "cell_type": "markdown",
   "metadata": {},
   "source": [
    " "
   ]
  }
 ],
 "metadata": {
  "colab": {
   "collapsed_sections": [],
   "name": "Python_for_Genomic_DS (F.exam).ipynb",
   "provenance": []
  },
  "kernelspec": {
   "display_name": "Python 3",
   "language": "python",
   "name": "python3"
  },
  "language_info": {
   "codemirror_mode": {
    "name": "ipython",
    "version": 3
   },
   "file_extension": ".py",
   "mimetype": "text/x-python",
   "name": "python",
   "nbconvert_exporter": "python",
   "pygments_lexer": "ipython3",
   "version": "3.7.7"
  }
 },
 "nbformat": 4,
 "nbformat_minor": 1
}
